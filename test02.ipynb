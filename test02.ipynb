{
 "cells": [
  {
   "cell_type": "code",
   "execution_count": 1,
   "metadata": {
    "collapsed": true,
    "deletable": true,
    "editable": true
   },
   "outputs": [],
   "source": [
    "%matplotlib inline"
   ]
  },
  {
   "cell_type": "code",
   "execution_count": 2,
   "metadata": {
    "collapsed": true,
    "deletable": true,
    "editable": true
   },
   "outputs": [],
   "source": [
    "from NLStats import *\n",
    "import numpy as np\n",
    "import matplotlib.pyplot as plt\n",
    "import seaborn"
   ]
  },
  {
   "cell_type": "code",
   "execution_count": 3,
   "metadata": {
    "collapsed": true,
    "deletable": true,
    "editable": true
   },
   "outputs": [],
   "source": [
    "# Data (simple linear example)\n",
    "sold_data = np.array([141, 166, 161, 170, 148, 136, 169, 109, 117, 87, 105, 73, 82, 75])\n",
    "cord_data = np.array([6.4, 6.1, 5.7, 6.9, 7.0 ,7.2, 6.6, 5.7, 5.7, 5.3, 4.9, 5.4, 4.5, 6.0])"
   ]
  },
  {
   "cell_type": "code",
   "execution_count": 4,
   "metadata": {
    "collapsed": true,
    "deletable": true,
    "editable": true
   },
   "outputs": [],
   "source": [
    "# Set initial parameter estimates\n",
    "param0 = Param(('const',0.), ('slope',0.))"
   ]
  },
  {
   "cell_type": "code",
   "execution_count": 5,
   "metadata": {
    "collapsed": true,
    "deletable": true,
    "editable": true
   },
   "outputs": [],
   "source": [
    "def residualsfunc(p, x, y):\n",
    "    \"\"\"Residual function to minimise\"\"\"\n",
    "    return p[0] + p[1] * x - y"
   ]
  },
  {
   "cell_type": "code",
   "execution_count": 6,
   "metadata": {
    "collapsed": true,
    "deletable": true,
    "editable": true
   },
   "outputs": [],
   "source": [
    "# Make new NLS class object\n",
    "model1 = NLS(residualsfunc, param0, sold_data, cord_data, bounds=None, loss='linear')"
   ]
  },
  {
   "cell_type": "code",
   "execution_count": 7,
   "metadata": {
    "collapsed": true,
    "deletable": true,
    "editable": true
   },
   "outputs": [],
   "source": [
    "# Run fitting routine\n",
    "model1.fit()"
   ]
  },
  {
   "cell_type": "code",
   "execution_count": 8,
   "metadata": {
    "collapsed": false,
    "deletable": true,
    "editable": true
   },
   "outputs": [
    {
     "name": "stdout",
     "output_type": "stream",
     "text": [
      "\n",
      "===============================================================\n",
      "Non-linear least squares regression\n",
      "Model: 'residualsfunc'\n",
      "Trust Region Reflective Algorithm\n",
      "Info: `gtol` termination condition is satisfied.\n",
      "Parameters:\n",
      "  Factor       Estimate       Std Error      t-value    P(>|t|)\n",
      "  const        4.108182e+00   6.088062e-01   6.74793   0.00002\n",
      "  slope        1.488525e-02   4.718547e-03   3.15463   0.00830\n",
      "\n",
      "Residual Standard Error:  0.61617\n",
      "                    AIC: 30.01366\n",
      "                    BIC: 31.93083\n",
      "\n",
      "Analysis of Variance:\n",
      "  Source     DF   SS        MS         F-value   P(>F)\n",
      "  Model       1   3.77830   3.77830    9.95166   0.00830\n",
      "  Error      12   4.55598   0.37967\n",
      "  Total      13   8.33429\n",
      "===============================================================\n",
      "\n"
     ]
    }
   ],
   "source": [
    "# Print output of fit\n",
    "model1.tout()"
   ]
  },
  {
   "cell_type": "code",
   "execution_count": 9,
   "metadata": {
    "collapsed": true,
    "deletable": true,
    "editable": true
   },
   "outputs": [],
   "source": [
    "# Setup plot data\n",
    "x_test = np.linspace(60, 180, 60)\n",
    "y_lsq = model1.parmEsts['const'] + x_test * model1.parmEsts['slope']"
   ]
  },
  {
   "cell_type": "code",
   "execution_count": 10,
   "metadata": {
    "collapsed": false,
    "deletable": true,
    "editable": true
   },
   "outputs": [
    {
     "data": {
      "image/png": "[encoded data removed]",
      "text/plain": [
       "<matplotlib.figure.Figure at 0x11484df50>"
      ]
     },
     "metadata": {},
     "output_type": "display_data"
    }
   ],
   "source": [
    "# Plot\n",
    "plt.plot(sold_data, cord_data, 'o')\n",
    "plt.plot(x_test, y_lsq, label='fit')\n",
    "plt.xlabel(\"sold\")\n",
    "plt.ylabel(\"cord\")\n",
    "plt.legend()\n",
    "plt.show()"
   ]
  },
  {
   "cell_type": "code",
   "execution_count": null,
   "metadata": {
    "collapsed": true,
    "deletable": true,
    "editable": true
   },
   "outputs": [],
   "source": []
  }
 ],
 "metadata": {
  "kernelspec": {
   "display_name": "Python 2",
   "language": "python",
   "name": "python2"
  },
  "language_info": {
   "codemirror_mode": {
    "name": "ipython",
    "version": 2
   },
   "file_extension": ".py",
   "mimetype": "text/x-python",
   "name": "python",
   "nbconvert_exporter": "python",
   "pygments_lexer": "ipython2",
   "version": "2.7.13"
  }
 },
 "nbformat": 4,
 "nbformat_minor": 2
}
