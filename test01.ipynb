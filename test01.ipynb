{
 "cells": [
  {
   "cell_type": "code",
   "execution_count": 1,
   "metadata": {
    "collapsed": true,
    "deletable": true,
    "editable": true
   },
   "outputs": [],
   "source": [
    "%matplotlib inline"
   ]
  },
  {
   "cell_type": "code",
   "execution_count": 2,
   "metadata": {
    "collapsed": true,
    "deletable": true,
    "editable": true
   },
   "outputs": [],
   "source": [
    "from NLStats import *\n",
    "import numpy as np\n",
    "import matplotlib.pyplot as plt\n",
    "import seaborn"
   ]
  },
  {
   "cell_type": "code",
   "execution_count": 3,
   "metadata": {
    "collapsed": true,
    "deletable": true,
    "editable": true
   },
   "outputs": [],
   "source": [
    "def gen_data(t, a, b, c, noise=0, n_outliers=0, random_state=0):\n",
    "    \"\"\"Function to generate sample data with noise and outlier points\"\"\"\n",
    "    \n",
    "    y = a + b * np.exp(t * c)\n",
    "\n",
    "    rnd = np.random.RandomState(random_state)\n",
    "    error = noise * rnd.randn(t.size)\n",
    "    outliers = rnd.randint(0, t.size, n_outliers)\n",
    "    error[outliers] *= 10\n",
    "\n",
    "    return y + error"
   ]
  },
  {
   "cell_type": "code",
   "execution_count": 4,
   "metadata": {
    "collapsed": true,
    "deletable": true,
    "editable": true
   },
   "outputs": [],
   "source": [
    "# Set parameters and generate data\n",
    "a = 0.5\n",
    "b = 2.0\n",
    "c = -0.8\n",
    "x_min = 0\n",
    "x_max = 10\n",
    "n_points = 15\n",
    "\n",
    "x_data = np.linspace(x_min, x_max, n_points)\n",
    "y_data = gen_data(x_data, a, b, c, noise=0.1, n_outliers=2)"
   ]
  },
  {
   "cell_type": "code",
   "execution_count": 5,
   "metadata": {
    "collapsed": true,
    "deletable": true,
    "editable": true
   },
   "outputs": [],
   "source": [
    "# Set initial parameter estimates\n",
    "param0 = Param(('a',1.), ('bb',1.5), ('cats012',0.))"
   ]
  },
  {
   "cell_type": "code",
   "execution_count": 6,
   "metadata": {
    "collapsed": true,
    "deletable": true,
    "editable": true
   },
   "outputs": [],
   "source": [
    "def residualsfunc(p, x, y):\n",
    "    \"\"\"Residual function to minimise\"\"\"\n",
    "    return p[0] + p[1] * np.exp(x * p[2]) - y"
   ]
  },
  {
   "cell_type": "code",
   "execution_count": 7,
   "metadata": {
    "collapsed": false,
    "deletable": true,
    "editable": true
   },
   "outputs": [],
   "source": [
    "# Make new NLS class object\n",
    "model1 = NLS(residualsfunc, param0, x_data, y_data, bounds=None, method='trf', loss='cauchy')"
   ]
  },
  {
   "cell_type": "code",
   "execution_count": 8,
   "metadata": {
    "collapsed": true,
    "deletable": true,
    "editable": true
   },
   "outputs": [],
   "source": [
    "# Run fitting routine\n",
    "model1.fit()"
   ]
  },
  {
   "cell_type": "code",
   "execution_count": 9,
   "metadata": {
    "collapsed": false,
    "deletable": true,
    "editable": true
   },
   "outputs": [
    {
     "name": "stdout",
     "output_type": "stream",
     "text": [
      "\n",
      "===============================================================\n",
      "Non-linear least squares regression\n",
      "Model: 'residualsfunc'\n",
      "Trust Region Reflective Algorithm\n",
      "Info: `ftol` termination condition is satisfied.\n",
      "Parameters:\n",
      "  Factor       Estimate       Std Error      t-value    P(>|t|)\n",
      "  a            4.446415e-01   3.211412e-01   1.38457   0.19139\n",
      "  bb           2.225645e+00   5.540273e-01   4.01721   0.00171\n",
      "  cats012     -4.559538e-01   3.055198e-01  -1.49239   0.16141\n",
      "\n",
      "Residual Standard Error:  0.57385\n",
      "                    AIC: 30.55950\n",
      "                    BIC: 33.39170\n",
      "\n",
      "Analysis of Variance:\n",
      "  Source     DF   SS        MS         F-value   P(>F)\n",
      "  Model       2   6.90229   3.45115   10.48005   0.00233\n",
      "  Error      12   3.95168   0.32931\n",
      "  Total      14  10.85397\n",
      "===============================================================\n",
      "\n"
     ]
    }
   ],
   "source": [
    "# Print output of fit\n",
    "model1.tout()"
   ]
  },
  {
   "cell_type": "code",
   "execution_count": 11,
   "metadata": {
    "collapsed": false,
    "deletable": true,
    "editable": true
   },
   "outputs": [],
   "source": [
    "# Setup plot data\n",
    "x_test = np.linspace(x_min, x_max, n_points * 10)\n",
    "y_true = gen_data(x_test, a, b, c)\n",
    "y_lsq = gen_data(x_test, *model1.parmEsts.values())"
   ]
  },
  {
   "cell_type": "code",
   "execution_count": 12,
   "metadata": {
    "collapsed": false,
    "deletable": true,
    "editable": true
   },
   "outputs": [
    {
     "data": {
      "image/png": "[encoded data removed]",
      "text/plain": [
       "<matplotlib.figure.Figure at 0x106278bd0>"
      ]
     },
     "metadata": {},
     "output_type": "display_data"
    }
   ],
   "source": [
    "# Plot\n",
    "plt.plot(x_data, y_data, 'o')\n",
    "plt.plot(x_test, y_true, 'k', linewidth=2, label='true')\n",
    "plt.plot(x_test, y_lsq, label='fit')\n",
    "plt.xlabel(\"x\")\n",
    "plt.ylabel(\"y\")\n",
    "plt.legend()\n",
    "plt.show()"
   ]
  },
  {
   "cell_type": "code",
   "execution_count": null,
   "metadata": {
    "collapsed": true,
    "deletable": true,
    "editable": true
   },
   "outputs": [],
   "source": []
  }
 ],
 "metadata": {
  "kernelspec": {
   "display_name": "Python 2",
   "language": "python",
   "name": "python2"
  },
  "language_info": {
   "codemirror_mode": {
    "name": "ipython",
    "version": 2
   },
   "file_extension": ".py",
   "mimetype": "text/x-python",
   "name": "python",
   "nbconvert_exporter": "python",
   "pygments_lexer": "ipython2",
   "version": "2.7.13"
  }
 },
 "nbformat": 4,
 "nbformat_minor": 2
}
